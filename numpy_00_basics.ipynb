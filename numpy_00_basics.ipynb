{
 "cells": [
  {
   "cell_type": "code",
   "execution_count": null,
   "metadata": {},
   "outputs": [],
   "source": [
    "# Views are different numpy array objects\n",
    "# using the same source data, but not having the same shape\n",
    "\n",
    "# Substitution makes variables indicating the same numpy array object\n",
    "\n",
    "# Shallow copy makes a view object having a different shape \n",
    "# using the same source data\n",
    "\n",
    "# Deep copy makes a whole new object having a different shape \n",
    "# and having the new copy of the source data"
   ]
  },
  {
   "cell_type": "code",
   "execution_count": 2,
   "metadata": {},
   "outputs": [
    {
     "name": "stdout",
     "output_type": "stream",
     "text": [
      "[1. 2. 3.]\n",
      "3\n",
      "<class 'numpy.float64'>\n",
      "<class 'numpy.float64'>\n",
      "<class 'numpy.float64'>\n"
     ]
    }
   ],
   "source": [
    "import numpy as np\n",
    "\n",
    "# Normaly, it guesses the data type\n",
    "# but you can decide the data type using dtype as the argument\n",
    "A = np.array([1, 2, 3], dtype=np.float64)\n",
    "\n",
    "print(A)\n",
    "print(len(A))\n",
    "print(type(A[0]))\n",
    "print(type(A[1]))\n",
    "print(type(A[2]))"
   ]
  },
  {
   "cell_type": "code",
   "execution_count": 3,
   "metadata": {},
   "outputs": [
    {
     "name": "stdout",
     "output_type": "stream",
     "text": [
      "[-1 -2 -3]\n",
      "[0. 0. 0.]\n"
     ]
    }
   ],
   "source": [
    "B = np.array([-1,-2,-3])\n",
    "print(B)\n",
    "\n",
    "C = A + B # element-wise vectorization\n",
    "print(C) "
   ]
  },
  {
   "cell_type": "code",
   "execution_count": 4,
   "metadata": {},
   "outputs": [
    {
     "name": "stdout",
     "output_type": "stream",
     "text": [
      "[0.1 0.2 0.3]\n",
      "float64\n",
      "<class 'numpy.float64'>\n"
     ]
    }
   ],
   "source": [
    "D = np.array((0.1, 0.2, 0.3))\n",
    "print(D)\n",
    "print(D.dtype)\n",
    "print(type(D[2]))"
   ]
  },
  {
   "cell_type": "code",
   "execution_count": 5,
   "metadata": {},
   "outputs": [
    {
     "name": "stdout",
     "output_type": "stream",
     "text": [
      "[1 2 3]\n",
      "int32\n",
      "<class 'numpy.int32'>\n",
      "<class 'numpy.int32'>\n",
      "<class 'numpy.ndarray'>\n"
     ]
    }
   ],
   "source": [
    "E = A.astype(np.int32) # change the data type\n",
    "print(E)\n",
    "print(E.dtype)\n",
    "print(type(E[0]))\n",
    "print(type(E[2]))\n",
    "print(type(E))"
   ]
  },
  {
   "cell_type": "code",
   "execution_count": 6,
   "metadata": {},
   "outputs": [
    {
     "name": "stdout",
     "output_type": "stream",
     "text": [
      "2\n"
     ]
    }
   ],
   "source": [
    "A = np.array([[1,2,3],[4,5,6],[7,8,9],[10,11,12]])\n",
    "print(A.ndim) # n-dimension, the number of the dimension of ndarray"
   ]
  },
  {
   "cell_type": "code",
   "execution_count": 8,
   "metadata": {},
   "outputs": [
    {
     "name": "stdout",
     "output_type": "stream",
     "text": [
      "(4, 3)\n",
      "<class 'tuple'>\n"
     ]
    }
   ],
   "source": [
    "print(A.shape) # column-wise(rows), row-wise(columns)\n",
    "print(type(A.shape))"
   ]
  },
  {
   "cell_type": "code",
   "execution_count": 10,
   "metadata": {},
   "outputs": [
    {
     "name": "stdout",
     "output_type": "stream",
     "text": [
      "12\n"
     ]
    }
   ],
   "source": [
    "print(A.size) # the number of all elements\n",
    "# it equals to the product of the shape"
   ]
  },
  {
   "cell_type": "code",
   "execution_count": 13,
   "metadata": {},
   "outputs": [
    {
     "name": "stdout",
     "output_type": "stream",
     "text": [
      "int32\n",
      "4\n"
     ]
    }
   ],
   "source": [
    "print(A.dtype)\n",
    "print(A.itemsize) # the byte size of an element"
   ]
  },
  {
   "cell_type": "code",
   "execution_count": 36,
   "metadata": {},
   "outputs": [
    {
     "name": "stdout",
     "output_type": "stream",
     "text": [
      "<memory at 0x000001EFBACB1150>\n",
      "<memory at 0x000001EFBB773940>\n",
      "<memory at 0x000001EFBACB1150>\n"
     ]
    }
   ],
   "source": [
    "print(A.data) # the buffer saving the element\n",
    "print(np.array([1,2,3,4]).data)\n",
    "print(np.array([[1,2,3], [4,5,6]]).data)"
   ]
  },
  {
   "cell_type": "code",
   "execution_count": 47,
   "metadata": {},
   "outputs": [
    {
     "name": "stdout",
     "output_type": "stream",
     "text": [
      "[[ 1  2  3]\n",
      " [ 4  5  6]\n",
      " [ 7  8  9]\n",
      " [10 11 12]]\n",
      "MAX: 12\n",
      "MIN: 1\n",
      "SUM: 78  SIZE: 12 != LEN: 4\n",
      "MEAN: 6.5\n"
     ]
    }
   ],
   "source": [
    "print(A)\n",
    "print('MAX:', A.max()) # about all elements in the ndarray\n",
    "print('MIN:', A.min())\n",
    "print('SUM:', A.sum(), ' SIZE:', A.size, '!=', 'LEN:', len(A)) # ndarray.size != len(ndarray)\n",
    "print('MEAN:', A.mean())"
   ]
  },
  {
   "cell_type": "code",
   "execution_count": 49,
   "metadata": {},
   "outputs": [
    {
     "name": "stdout",
     "output_type": "stream",
     "text": [
      "[22 26 30]\n",
      "[ 6 15 24 33]\n"
     ]
    }
   ],
   "source": [
    "print(A.sum(axis=0)) # column-wise ('0' means the first dimension)\n",
    "print(A.sum(axis=1)) # row-wise"
   ]
  },
  {
   "cell_type": "code",
   "execution_count": 57,
   "metadata": {},
   "outputs": [
    {
     "name": "stdout",
     "output_type": "stream",
     "text": [
      "[[[0 0 0]\n",
      "  [0 0 0]]\n",
      "\n",
      " [[1 1 1]\n",
      "  [1 1 1]]\n",
      "\n",
      " [[2 2 2]\n",
      "  [2 2 2]]]\n",
      "\n",
      "SUM in axis 0 direction:\n",
      "[[3 3 3]\n",
      " [3 3 3]]\n"
     ]
    }
   ],
   "source": [
    "t = np.array([[[0,0,0],[0,0,0]],[[1,1,1],[1,1,1]],[[2,2,2],[2,2,2]]])\n",
    "print(t)\n",
    "print('\\nSUM in axis 0 direction:')\n",
    "print(t.sum(axis=0))"
   ]
  },
  {
   "cell_type": "code",
   "execution_count": 60,
   "metadata": {},
   "outputs": [
    {
     "name": "stdout",
     "output_type": "stream",
     "text": [
      "(3, 2, 3)\n"
     ]
    }
   ],
   "source": [
    "print(t.shape) # ( ndim: 3 , ndim: 2 , ndim: 1 )"
   ]
  },
  {
   "cell_type": "code",
   "execution_count": 66,
   "metadata": {},
   "outputs": [
    {
     "name": "stdout",
     "output_type": "stream",
     "text": [
      "[0 1 2 3]\n",
      "(4,)\n"
     ]
    }
   ],
   "source": [
    "A = np.array([0,1,2,3])\n",
    "print(A)\n",
    "print(A.shape)"
   ]
  },
  {
   "cell_type": "code",
   "execution_count": 65,
   "metadata": {},
   "outputs": [
    {
     "name": "stdout",
     "output_type": "stream",
     "text": [
      "[[ 0  1  2  3]\n",
      " [ 4  5  6  7]\n",
      " [ 8  9 10 11]]\n",
      "(3, 4)\n"
     ]
    }
   ],
   "source": [
    "B = np.array([[0,1,2,3],[4,5,6,7],[8,9,10,11]])\n",
    "print(B)\n",
    "print(B.shape)"
   ]
  },
  {
   "cell_type": "code",
   "execution_count": 69,
   "metadata": {},
   "outputs": [
    {
     "name": "stdout",
     "output_type": "stream",
     "text": [
      "[[[ 0  1  2  3]\n",
      "  [ 4  5  6  7]\n",
      "  [ 8  9 10 11]]\n",
      "\n",
      " [[12 13 14 15]\n",
      "  [16 17 18 19]\n",
      "  [20 21 22 23]]\n",
      "\n",
      " [[24 25 26 27]\n",
      "  [28 29 30 31]\n",
      "  [32 33 34 35]]]\n"
     ]
    }
   ],
   "source": [
    "C = np.arange(36).reshape(3,3,4) # arange 0~n-1, reshape to the tuple(shape)\n",
    "print(C)"
   ]
  },
  {
   "cell_type": "code",
   "execution_count": 78,
   "metadata": {},
   "outputs": [
    {
     "name": "stdout",
     "output_type": "stream",
     "text": [
      "[[   0    1    2 ...   97   98   99]\n",
      " [ 100  101  102 ...  197  198  199]\n",
      " [ 200  201  202 ...  297  298  299]\n",
      " ...\n",
      " [9700 9701 9702 ... 9797 9798 9799]\n",
      " [9800 9801 9802 ... 9897 9898 9899]\n",
      " [9900 9901 9902 ... 9997 9998 9999]]\n"
     ]
    }
   ],
   "source": [
    "# arange -> reshape\n",
    "D = np.arange(10000).reshape(100,100)\n",
    "print(D)"
   ]
  },
  {
   "cell_type": "code",
   "execution_count": 79,
   "metadata": {},
   "outputs": [],
   "source": [
    "import sys\n",
    "# np.set_printoptions(threshold=sys.maxsize) # no summarization\n",
    "np.set_printoptions(threshold=1000) # numpy.set_printoptions"
   ]
  },
  {
   "cell_type": "code",
   "execution_count": 82,
   "metadata": {},
   "outputs": [
    {
     "name": "stdout",
     "output_type": "stream",
     "text": [
      "2.3583386999962386\n",
      "0.4329268999863416\n"
     ]
    }
   ],
   "source": [
    "import timeit\n",
    "\n",
    "#Python List VS Numpy Array\n",
    "#Speed Test: Faster 5 times more\n",
    "\n",
    "print(timeit.timeit('[i**2 for i in A]', setup='A=range(10)'))\n",
    "\n",
    "print(timeit.timeit('B**2', setup='import numpy as np;B=np.arange(10)'))"
   ]
  },
  {
   "cell_type": "code",
   "execution_count": 86,
   "metadata": {},
   "outputs": [],
   "source": [
    "# Vectorization also makes numpy array faster\n",
    "# than python list,\n",
    "# because the list access its element one by one using for loop,\n",
    "# while numpy array process arrays without the loop\n",
    "# Vectorization is element-wise processing of numpy arrays"
   ]
  },
  {
   "cell_type": "code",
   "execution_count": 3,
   "metadata": {},
   "outputs": [
    {
     "data": {
      "text/plain": [
       "5"
      ]
     },
     "execution_count": 3,
     "metadata": {},
     "output_type": "execute_result"
    }
   ],
   "source": [
    "A = np.array([1,2])\n",
    "np.dot(A,A) \n",
    "# When it is 1-dimension array,\n",
    "# numpy doesn't care whether it is row vector or column vector\n",
    "# so, we can dot 1-dimension array itself\n",
    "# as if it is like (1,2) dot (2,1) arrays dot processing"
   ]
  },
  {
   "cell_type": "code",
   "execution_count": 4,
   "metadata": {},
   "outputs": [
    {
     "name": "stdout",
     "output_type": "stream",
     "text": [
      "[[1 2 3]]\n",
      "(1, 3)\n",
      "[[1]\n",
      " [2]\n",
      " [3]]\n",
      "(3, 1)\n",
      "[[14]]\n"
     ]
    }
   ],
   "source": [
    "A = np.array([1,2,3])\n",
    "A.shape = 1,3 # change the shape by force\n",
    "print(A)\n",
    "print(A.shape)\n",
    "\n",
    "B = np.array([1,2,3])\n",
    "B.shape = 3,1 # change the shape forcibly\n",
    "print(B)\n",
    "print(B.shape)\n",
    "\n",
    "print(np.dot(A,B)) # (1,3) dot (3,1)"
   ]
  },
  {
   "cell_type": "code",
   "execution_count": 95,
   "metadata": {},
   "outputs": [
    {
     "name": "stdout",
     "output_type": "stream",
     "text": [
      "[[0. 0. 0.]\n",
      " [0. 0. 0.]]\n",
      "float64\n",
      "[[1. 1. 1.]\n",
      " [1. 1. 1.]]\n",
      "float64\n"
     ]
    }
   ],
   "source": [
    "# zeros, ones\n",
    "# default data type is 'float64'\n",
    "A = np.zeros((2,3))\n",
    "print(A)\n",
    "print(A.dtype)\n",
    "B = np.ones((2,3))\n",
    "print(B)\n",
    "print(B.dtype)\n"
   ]
  },
  {
   "cell_type": "code",
   "execution_count": 99,
   "metadata": {},
   "outputs": [
    {
     "name": "stdout",
     "output_type": "stream",
     "text": [
      "[[2.12199579e-314 2.05833592e-312 2.10077583e-312]\n",
      " [2.14321575e-312 4.18033171e-312 4.22277162e-312]\n",
      " [4.26521154e-312 6.30232750e-312 6.34476742e-312]]\n"
     ]
    }
   ],
   "source": [
    "# empty is fast, becuase it doesn't initialize values\n",
    "C = np.empty((3,3)) # empty is not zero, it could have garbage value\n",
    "print(C)"
   ]
  },
  {
   "cell_type": "code",
   "execution_count": 103,
   "metadata": {},
   "outputs": [
    {
     "name": "stdout",
     "output_type": "stream",
     "text": [
      "[[0.44801202 0.97374301 0.29840625]\n",
      " [0.36103205 0.09991142 0.69925598]]\n",
      "[[3 2 1]\n",
      " [5 6 5]]\n"
     ]
    }
   ],
   "source": [
    "D = np.random.random((2,3)) # half open[closed] interval: [0, 1)\n",
    "print(D)\n",
    "\n",
    "E = np.random.randint(1,7, (2,3)) # randint 1~6\n",
    "print(E)"
   ]
  },
  {
   "cell_type": "code",
   "execution_count": 108,
   "metadata": {},
   "outputs": [
    {
     "name": "stdout",
     "output_type": "stream",
     "text": [
      "[0.   0.01 0.02 0.03 0.04 0.05 0.06 0.07 0.08 0.09]\n",
      "[0 1 2 3 4 5 6 7 8 9]\n"
     ]
    }
   ],
   "source": [
    "# arange\n",
    "# arange(start, end, gap)\n",
    "# arange(start, end)\n",
    "# arange(end)\n",
    "# end is open\n",
    "\n",
    "A = np.arange(0.00, 0.1, 0.01) # start, end(open), gap\n",
    "print(A)\n",
    "\n",
    "# default start: 0\n",
    "# default gap  : 1\n",
    "B = np.arange(10)\n",
    "print(B)"
   ]
  },
  {
   "cell_type": "code",
   "execution_count": 113,
   "metadata": {},
   "outputs": [
    {
     "name": "stdout",
     "output_type": "stream",
     "text": [
      "[0. 1. 2. 3. 4. 5. 6. 7. 8. 9.]\n",
      "[ 0.          1.11111111  2.22222222  3.33333333  4.44444444  5.55555556\n",
      "  6.66666667  7.77777778  8.88888889 10.        ]\n",
      "[ 1.  2.  3.  4.  5.  6.  7.  8.  9. 10. 11. 12. 13. 14. 15. 16. 17. 18.\n",
      " 19. 20. 21. 22. 23. 24. 25. 26. 27. 28. 29. 30. 31. 32. 33. 34. 35. 36.\n",
      " 37. 38. 39. 40. 41. 42. 43. 44. 45. 46. 47. 48. 49. 50.]\n"
     ]
    }
   ],
   "source": [
    "# linspace\n",
    "# linspace(start, end, the number of samples -> size)\n",
    "# linspace(start, end) default 50 samples\n",
    "# start <= sample <= end (closed, closed)\n",
    "\n",
    "A = np.linspace(0, 9, 10)\n",
    "print(A)\n",
    "A = np.linspace(0, 10, 10)\n",
    "print(A)\n",
    "\n",
    "B = np.linspace(1, 50) # default 50 samples\n",
    "print(B)"
   ]
  },
  {
   "cell_type": "code",
   "execution_count": 118,
   "metadata": {},
   "outputs": [
    {
     "name": "stdout",
     "output_type": "stream",
     "text": [
      "[ 0  1  2  3  4  5  6  7  8  9 10 11 12 13 14 15]\n",
      "[[ 0  1  2  3]\n",
      " [ 4  5  6  7]\n",
      " [ 8  9 10 11]\n",
      " [12 13 14 15]]\n",
      "None\n",
      "[ 0  1  2  3  4  5  6  7  8  9 10 11 12 13 14 15]\n"
     ]
    }
   ],
   "source": [
    "# reshape\n",
    "A = np.arange(16)\n",
    "B = A.reshape(4,4)\n",
    "\n",
    "print(A)\n",
    "print(B)\n",
    "print(A.base)\n",
    "print(B.base)"
   ]
  },
  {
   "cell_type": "code",
   "execution_count": 119,
   "metadata": {},
   "outputs": [
    {
     "name": "stdout",
     "output_type": "stream",
     "text": [
      "True\n",
      "<memory at 0x000001EFBB992440>\n",
      "<memory at 0x000001EFBACB2CF0>\n",
      "<memory at 0x000001EFBB992440>\n"
     ]
    }
   ],
   "source": [
    "# base\n",
    "print(B.base is A)\n",
    "print(A.data)\n",
    "print(B.data)\n",
    "print(B.base.data)"
   ]
  },
  {
   "cell_type": "code",
   "execution_count": 120,
   "metadata": {},
   "outputs": [
    {
     "name": "stdout",
     "output_type": "stream",
     "text": [
      "[-1 -1 -1 -1  4  5  6  7  8  9 10 11 12 13 14 15]\n",
      "[[-1 -1 -1 -1]\n",
      " [ 4  5  6  7]\n",
      " [ 8  9 10 11]\n",
      " [12 13 14 15]]\n"
     ]
    }
   ],
   "source": [
    "# data share\n",
    "B[0] = -1\n",
    "print(A)\n",
    "print(B)"
   ]
  },
  {
   "cell_type": "code",
   "execution_count": 121,
   "metadata": {},
   "outputs": [
    {
     "name": "stdout",
     "output_type": "stream",
     "text": [
      "[[-1 -1 -1 -1  4  5  6  7]\n",
      " [ 8  9 10 11 12 13 14 15]]\n",
      "None\n",
      "[[ 0  0  0  0  0  0  0  0]\n",
      " [ 8  9 10 11 12 13 14 15]]\n",
      "[[-1 -1 -1 -1]\n",
      " [ 4  5  6  7]\n",
      " [ 8  9 10 11]\n",
      " [12 13 14 15]]\n"
     ]
    }
   ],
   "source": [
    "C=B.reshape(2,8).copy() # copy new one\n",
    "print(C)\n",
    "print(C.base) # no base, it's another one (not a view)\n",
    "\n",
    "C[0] = 0\n",
    "print(C)\n",
    "print(B) # no change"
   ]
  },
  {
   "cell_type": "code",
   "execution_count": 124,
   "metadata": {},
   "outputs": [
    {
     "name": "stdout",
     "output_type": "stream",
     "text": [
      "[[0 1]\n",
      " [2 3]\n",
      " [4 5]\n",
      " [6 7]]\n"
     ]
    }
   ],
   "source": [
    "# -1 in shape\n",
    "# for auto completion\n",
    "# -1 can be used only once -> (-1, -1, 8) error!\n",
    "D = np.arange(8).reshape(4, -1) # -> 4 x 2\n",
    "print(D)"
   ]
  },
  {
   "cell_type": "code",
   "execution_count": 132,
   "metadata": {},
   "outputs": [
    {
     "name": "stdout",
     "output_type": "stream",
     "text": [
      "[[0 1]\n",
      " [2 3]]\n",
      "<memory at 0x000001EFBACB2DC0>\n",
      "[0 1 2 3]\n",
      "<memory at 0x000001EFBB992800>\n",
      "[[0 1]\n",
      " [2 3]]\n",
      "<memory at 0x000001EFBACB2DC0>\n",
      "True\n"
     ]
    }
   ],
   "source": [
    "# ravel method transfer array to 1-dim array\n",
    "# it makes a view\n",
    "\n",
    "A = np.array([[0,1],[2,3]])\n",
    "B = A.ravel() # ravel makes a view\n",
    "\n",
    "print(A)\n",
    "print(A.data)\n",
    "\n",
    "print(B)\n",
    "print(B.data)\n",
    "\n",
    "print(B.base)\n",
    "print(B.base.data)\n",
    "print(B.base is A)"
   ]
  },
  {
   "cell_type": "code",
   "execution_count": 140,
   "metadata": {},
   "outputs": [
    {
     "name": "stdout",
     "output_type": "stream",
     "text": [
      "[0 1 2 3 4 5 6 7 8 9]\n",
      "<memory at 0x000001EFBB992800>\n",
      "[[0 1 2 3 4]\n",
      " [5 6 7 8 9]]\n",
      "<memory at 0x000001EFBACB2B50>\n"
     ]
    }
   ],
   "source": [
    "# resize method resizes an array 'directly'\n",
    "# it doesn't make the view of the array\n",
    "A = np.arange(10)\n",
    "print(A)\n",
    "print(A.data)\n",
    "\n",
    "A.resize(2,5)\n",
    "print(A)\n",
    "print(A.data) # ?"
   ]
  },
  {
   "cell_type": "code",
   "execution_count": 142,
   "metadata": {},
   "outputs": [
    {
     "name": "stdout",
     "output_type": "stream",
     "text": [
      "[1 2 3 4]\n",
      "(4,)\n",
      "[[1]\n",
      " [2]\n",
      " [3]\n",
      " [4]]\n",
      "(4, 1)\n",
      "[[1 2 3 4]]\n",
      "(1, 4)\n"
     ]
    }
   ],
   "source": [
    "# newaxis\n",
    "# increases the dimension of an array\n",
    "\n",
    "A = np.array([1,2,3,4])\n",
    "print(A)\n",
    "print(A.shape)\n",
    "\n",
    "B = A[:, np.newaxis]\n",
    "print(B)\n",
    "print(B.shape)\n",
    "\n",
    "C = A[np.newaxis, :]\n",
    "print(C)\n",
    "print(C.shape)"
   ]
  },
  {
   "cell_type": "code",
   "execution_count": 146,
   "metadata": {},
   "outputs": [
    {
     "name": "stdout",
     "output_type": "stream",
     "text": [
      "[[0 0]\n",
      " [1 1]\n",
      " [2 2]\n",
      " [3 3]]\n",
      "[[0 0 2 2]\n",
      " [1 1 3 3]]\n"
     ]
    }
   ],
   "source": [
    "# vstack, hstack\n",
    "\n",
    "A = np.array([[0,0],[1,1]])\n",
    "B = np.array([[2,2],[3,3]])\n",
    "\n",
    "C = np.vstack((A,B))\n",
    "print(C)\n",
    "\n",
    "D = np.hstack((A,B))\n",
    "print(D)"
   ]
  },
  {
   "cell_type": "code",
   "execution_count": 147,
   "metadata": {},
   "outputs": [
    {
     "name": "stdout",
     "output_type": "stream",
     "text": [
      "[[0 3 6]\n",
      " [1 4 7]\n",
      " [2 5 8]]\n"
     ]
    }
   ],
   "source": [
    "# column_stack\n",
    "# takes 1-dim array as column vector to make 2-dim array\n",
    "A = np.array([0,1,2])\n",
    "B = np.array([3,4,5])\n",
    "C = np.array([6,7,8])\n",
    "\n",
    "D = np.column_stack((A,B,C))\n",
    "print(D)"
   ]
  },
  {
   "cell_type": "code",
   "execution_count": 148,
   "metadata": {},
   "outputs": [
    {
     "name": "stdout",
     "output_type": "stream",
     "text": [
      "[[0 0 0]\n",
      " [1 1 1]\n",
      " [2 2 2]\n",
      " [3 3 3]\n",
      " [4 4 4]\n",
      " [5 5 5]]\n",
      "[[0 0 0 3 3 3]\n",
      " [1 1 1 4 4 4]\n",
      " [2 2 2 5 5 5]]\n"
     ]
    }
   ],
   "source": [
    "# concatenate\n",
    "# concatenate arrays in seleted direction(axis)\n",
    "\n",
    "A = np.array([[0,0,0],[1,1,1],[2,2,2]])\n",
    "B = np.array([[3,3,3],[4,4,4],[5,5,5]])\n",
    "\n",
    "C = np.concatenate((A,B), axis=0)\n",
    "print(C)\n",
    "\n",
    "D = np.concatenate((A,B), axis=1)\n",
    "print(D)"
   ]
  },
  {
   "cell_type": "code",
   "execution_count": 161,
   "metadata": {},
   "outputs": [
    {
     "name": "stdout",
     "output_type": "stream",
     "text": [
      "[[1 2 3]\n",
      " [4 5 6]\n",
      " [7 8 9]]\n",
      "[[1]\n",
      " [4]\n",
      " [7]]\n",
      "[[2 3]\n",
      " [5 6]\n",
      " [8 9]]\n"
     ]
    }
   ],
   "source": [
    "# hsplit(column-wise, split along the second axis)\n",
    "# Also read https://www.w3resource.com/numpy/manipulation/hsplit.php\n",
    "\n",
    "A = np.arange(1,10,1).reshape(3,3)\n",
    "a = np.hsplit(A, 3) # split it into 3 pieces\n",
    "print(A)\n",
    "print(a[0])\n",
    "\n",
    "b = np.hsplit(A, (1,3)) # A[:, :1], A[:, :3]\n",
    "print(b[1])"
   ]
  },
  {
   "cell_type": "code",
   "execution_count": 162,
   "metadata": {},
   "outputs": [
    {
     "name": "stdout",
     "output_type": "stream",
     "text": [
      "[[ 0  1  2  3  4  5]\n",
      " [ 6  7  8  9 10 11]\n",
      " [12 13 14 15 16 17]\n",
      " [18 19 20 21 22 23]\n",
      " [24 25 26 27 28 29]\n",
      " [30 31 32 33 34 35]]\n",
      "[[ 0  1  2  3  4  5]\n",
      " [ 6  7  8  9 10 11]]\n",
      "[[30 31 32 33 34 35]]\n"
     ]
    }
   ],
   "source": [
    "# vsplit(row-wise, )\n",
    "A = np.arange(36).reshape(6,6)\n",
    "a = np.vsplit(A,3)\n",
    "print(A)\n",
    "print(a[0])\n",
    "\n",
    "b = np.vsplit(A, (2,5)) # A[:2,:], A[2:5,:], A[5:,:]\n",
    "print(b[2])"
   ]
  },
  {
   "cell_type": "code",
   "execution_count": 163,
   "metadata": {},
   "outputs": [],
   "source": [
    "# hsplit, vsplit\n",
    "# when you think of the two splits above,\n",
    "# imagine the direction opposite(perpendicular)\n",
    "# to what you first think from the word"
   ]
  },
  {
   "cell_type": "code",
   "execution_count": 170,
   "metadata": {},
   "outputs": [
    {
     "name": "stdout",
     "output_type": "stream",
     "text": [
      "[[ 0  1  2  3  4]\n",
      " [ 5  6  7  8  9]\n",
      " [10 11 12 13 14]\n",
      " [15 16 17 18 19]\n",
      " [20 21 22 23 24]\n",
      " [25 26 27 28 29]]\n",
      "23\n",
      "[[17 18]\n",
      " [22 23]]\n"
     ]
    }
   ],
   "source": [
    "# indexing\n",
    "A = np.arange(30).reshape(6,5)\n",
    "print(A)\n",
    "\n",
    "print(A[4,3])\n",
    "\n",
    "print(A[3:5,2:4]) # slicing"
   ]
  },
  {
   "cell_type": "code",
   "execution_count": 173,
   "metadata": {},
   "outputs": [
    {
     "name": "stdout",
     "output_type": "stream",
     "text": [
      "[0 1 2 3 4]\n",
      "[5 6 7 8 9]\n",
      "[10 11 12 13 14]\n",
      "[15 16 17 18 19]\n",
      "[20 21 22 23 24]\n",
      "[25 26 27 28 29]\n"
     ]
    }
   ],
   "source": [
    "# How to get row vectors of the array\n",
    "for row in A:\n",
    "    print(row)\n"
   ]
  },
  {
   "cell_type": "code",
   "execution_count": 171,
   "metadata": {},
   "outputs": [
    {
     "name": "stdout",
     "output_type": "stream",
     "text": [
      "[ 0  5 10 15 20 25]\n",
      "[ 1  6 11 16 21 26]\n",
      "[ 2  7 12 17 22 27]\n",
      "[ 3  8 13 18 23 28]\n",
      "[ 4  9 14 19 24 29]\n"
     ]
    }
   ],
   "source": [
    "# How to get column vectors of the array\n",
    "# : using A.T\n",
    "for column in A.T:\n",
    "    print(column)"
   ]
  },
  {
   "cell_type": "code",
   "execution_count": 187,
   "metadata": {},
   "outputs": [
    {
     "name": "stdout",
     "output_type": "stream",
     "text": [
      "[[0 1 2]\n",
      " [3 4 5]\n",
      " [6 7 8]]\n",
      "<numpy.flatiter object at 0x000001EFB9D21570>\n",
      "0\n",
      "1\n",
      "2\n",
      "3\n",
      "4\n",
      "5\n",
      "6\n",
      "7\n",
      "8\n"
     ]
    }
   ],
   "source": [
    "# flat\n",
    "# How to get every element of the array\n",
    "# A.flat makes A flat\n",
    "# like this:\n",
    "A = np.array([[0,1,2],[3,4,5],[6,7,8]])\n",
    "print(A)\n",
    "\n",
    "print(A.flat)\n",
    "for el in A.flat:\n",
    "    print(el)"
   ]
  },
  {
   "cell_type": "code",
   "execution_count": 180,
   "metadata": {},
   "outputs": [
    {
     "name": "stdout",
     "output_type": "stream",
     "text": [
      "[[ 0  1  2  3]\n",
      " [ 4  5  6  7]\n",
      " [ 8  9 10 11]]\n",
      "6\n",
      "6\n",
      "[[ 0  1  2  3]\n",
      " [ 4  5  6  7]\n",
      " [ 8  9 10 11]]\n",
      "[[ 0  0  2  3]\n",
      " [ 0  0  6  7]\n",
      " [ 8  9 10 11]]\n"
     ]
    }
   ],
   "source": [
    "# Slicing\n",
    "# Slice is the result of slicing, and it's a view\n",
    "# affected by changing of the base data\n",
    "\n",
    "A = np.array([\n",
    "    [0,1,2,3],\n",
    "    [4,5,6,7],\n",
    "    [8,9,10,11]\n",
    "])\n",
    "\n",
    "print(A)\n",
    "print(A[1,2]) # A[1,2] == A[1][2] \n",
    "print(A[1][2])\n",
    "\n",
    "print(A)\n",
    "A[:2,:2]=0\n",
    "print(A)"
   ]
  },
  {
   "cell_type": "code",
   "execution_count": 185,
   "metadata": {},
   "outputs": [
    {
     "name": "stdout",
     "output_type": "stream",
     "text": [
      "[[ 0  1  2  3]\n",
      " [ 4  5  6  7]\n",
      " [ 8  9 10 11]]\n",
      "[ 3  7 11]\n",
      "[ 8  9 10 11]\n"
     ]
    }
   ],
   "source": [
    "# ...\n",
    "A = np.array([\n",
    "    [0,1,2,3],\n",
    "    [4,5,6,7],\n",
    "    [8,9,10,11]\n",
    "])\n",
    "\n",
    "print(A)\n",
    "print(A[...,3])\n",
    "print(A[2,...])"
   ]
  },
  {
   "cell_type": "code",
   "execution_count": 192,
   "metadata": {},
   "outputs": [
    {
     "name": "stdout",
     "output_type": "stream",
     "text": [
      "[ True  True  True  True  True  True  True  True  True  True]\n",
      "True\n",
      "[10  1  2  3  4  5  6  7  8 -1]\n",
      "[10  1  2  3  4  5  6  7  8 -1]\n",
      "[[10  1  2  3  4]\n",
      " [ 5  6  7  8 -1]]\n",
      "2129125122160\n",
      "2129125122160\n"
     ]
    }
   ],
   "source": [
    "# Substitution\n",
    "\n",
    "A = np.arange(10)\n",
    "B = A\n",
    "\n",
    "print(A==B)\n",
    "print(A is B)\n",
    "\n",
    "A[0] = 10\n",
    "B[-1] = -1\n",
    "print(A)\n",
    "print(B)\n",
    "\n",
    "B.shape = 2,5\n",
    "print(A)\n",
    "\n",
    "def func(a):\n",
    "    print(id(a))\n",
    "\n",
    "print(id(A))\n",
    "func(A)"
   ]
  },
  {
   "cell_type": "code",
   "execution_count": 207,
   "metadata": {},
   "outputs": [
    {
     "name": "stdout",
     "output_type": "stream",
     "text": [
      "[0 1 2 3 4 5 6 7 8 9]\n",
      "[0 1 2 3 4 5 6 7 8 9]\n",
      "[ 0  1  2  3  4  5  6  7  8 -1]\n",
      "[ 0  1  2  3  4  5  6  7  8 -1]\n",
      "[[ 0  1  2  3  4]\n",
      " [ 5  6  7  8 -1]]\n",
      "[ 0  1  2  3  4  5  6  7  8 -1]\n"
     ]
    }
   ],
   "source": [
    "# Shallow Copy\n",
    "# sharing data, data change affects\n",
    "# but view is a different object, so shape change doesn't affect\n",
    "\n",
    "A = np.arange(10)\n",
    "\n",
    "B = A.view()\n",
    "\n",
    "print(A)\n",
    "print(B)\n",
    "\n",
    "A[-1] = -1\n",
    "print(A)\n",
    "print(B)\n",
    "\n",
    "A.shape = 2,5\n",
    "print(A)\n",
    "print(B)"
   ]
  },
  {
   "cell_type": "code",
   "execution_count": 209,
   "metadata": {},
   "outputs": [
    {
     "name": "stdout",
     "output_type": "stream",
     "text": [
      "[[  0 100   2   3   4]\n",
      " [  5   6   7   8  -1]]\n",
      "[  0 100   2   3   4   5   6   7   8  -1]\n",
      "[[100   2]\n",
      " [  6   7]]\n"
     ]
    }
   ],
   "source": [
    "# Slice is the same as the view(slicing returns a view)\n",
    "# Slicing is the same as the shallow copy\n",
    "# sharing data, but not the shape(a different object)\n",
    "\n",
    "C = A[0:,1:3]\n",
    "C[0,0] = 100\n",
    "print(A)\n",
    "print(B)\n",
    "print(C)"
   ]
  },
  {
   "cell_type": "code",
   "execution_count": 212,
   "metadata": {},
   "outputs": [
    {
     "name": "stdout",
     "output_type": "stream",
     "text": [
      "[[0 1 2 3 4]\n",
      " [5 6 7 8 9]]\n",
      "[[0 1 2 3 4]\n",
      " [5 6 7 8 9]]\n",
      "False\n",
      "[[0 1 2 3 4]\n",
      " [5 6 7 8 9]]\n",
      "[[ 0  1  2  3  4]\n",
      " [ 5  6  7  8 -1]]\n",
      "[[0 1 2 3 4]\n",
      " [5 6 7 8 9]]\n",
      "[ 0  1  2  3  4  5  6  7  8 -1]\n"
     ]
    }
   ],
   "source": [
    "# Deep Copy\n",
    "# copy method\n",
    "# no data share\n",
    "# no shape share\n",
    "# new array object\n",
    "\n",
    "A = np.arange(10).reshape(2,5)\n",
    "\n",
    "B = A.copy()\n",
    "\n",
    "print(A)\n",
    "print(B)\n",
    "\n",
    "print(B.base is A)\n",
    "\n",
    "B[1,4] = -1\n",
    "print(A)\n",
    "print(B)\n",
    "\n",
    "B.shape = 10,\n",
    "print(A)\n",
    "print(B)"
   ]
  },
  {
   "cell_type": "code",
   "execution_count": 219,
   "metadata": {},
   "outputs": [
    {
     "name": "stdout",
     "output_type": "stream",
     "text": [
      "[[ 2  4  6]\n",
      " [ 8 10 12]\n",
      " [14 16 18]]\n",
      "[[2 2 2]\n",
      " [2 2 2]\n",
      " [2 2 2]]\n",
      "[[ 4  6  8]\n",
      " [10 12 14]\n",
      " [16 18 20]]\n",
      "[[ 0  2  4]\n",
      " [ 6  8 10]\n",
      " [12 14 16]]\n",
      "[[ 4  8 12]\n",
      " [16 20 24]\n",
      " [28 32 36]]\n",
      "[[1. 2. 3.]\n",
      " [4. 5. 6.]\n",
      " [7. 8. 9.]]\n"
     ]
    }
   ],
   "source": [
    "# Operations between same size arrays\n",
    "\n",
    "A = np.arange(2,19,2).reshape(3,3)\n",
    "B = np.array([2,2,2,2,2,2,2,2,2]).reshape(3,3)\n",
    "\n",
    "print(A)\n",
    "print(B)\n",
    "\n",
    "print(A+B)\n",
    "print(A-B)\n",
    "print(A*B)\n",
    "print(A/B)"
   ]
  },
  {
   "cell_type": "code",
   "execution_count": 220,
   "metadata": {},
   "outputs": [
    {
     "name": "stdout",
     "output_type": "stream",
     "text": [
      "[[24 24 24]\n",
      " [60 60 60]\n",
      " [96 96 96]]\n",
      "[[24 24 24]\n",
      " [60 60 60]\n",
      " [96 96 96]]\n",
      "[[24 24 24]\n",
      " [60 60 60]\n",
      " [96 96 96]]\n"
     ]
    }
   ],
   "source": [
    "# matrix multiplication\n",
    "# a x b dot b x c\n",
    "print(np.dot(A,B))\n",
    "print(A.dot(B))\n",
    "print(A@B) # python 3.5 +"
   ]
  },
  {
   "cell_type": "code",
   "execution_count": 224,
   "metadata": {},
   "outputs": [
    {
     "name": "stdout",
     "output_type": "stream",
     "text": [
      "(2, 5)\n",
      "(5,)\n",
      "[[ 11  22  33  44  55]\n",
      " [ 61  72  83  94 105]]\n",
      "[[ 15  25  35  45  55]\n",
      " [ 65  75  85  95 105]]\n"
     ]
    }
   ],
   "source": [
    "# Operations between different size arrays\n",
    "# Broadcasting\n",
    "# 1. Make the ndims of two arrays same by adding (1,) \n",
    "# to the left of lesser dim one (2,3,1)(3) -> (2,3,1)(1,1,3)\n",
    "# 2. If the sizes of same dimension are same or (1,),\n",
    "# it can be broadcast\n",
    "# 3. For example, (3, 4, 3)(3), (2,4,1)(4,4), (1,2,3)(1,3)\n",
    "# 4. Scalar is broadcast\n",
    "# After 1. ~ 5., the operation would be the same case \n",
    "# as the operation between same size arrays\n",
    "\n",
    "A = np.arange(10,101,10).reshape(2,5)\n",
    "B = np.array([1,2,3,4,5])\n",
    "print(A.shape)\n",
    "print(B.shape)\n",
    "print(A + B) # (2,5)(5) -> (2,5)(1,5) Broadcast!\n",
    "\n",
    "C = 5 # Scalar is broadcast!\n",
    "print(A+C)"
   ]
  }
 ],
 "metadata": {
  "kernelspec": {
   "display_name": "Python 3.10.5 ('.venv': venv)",
   "language": "python",
   "name": "python3"
  },
  "language_info": {
   "codemirror_mode": {
    "name": "ipython",
    "version": 3
   },
   "file_extension": ".py",
   "mimetype": "text/x-python",
   "name": "python",
   "nbconvert_exporter": "python",
   "pygments_lexer": "ipython3",
   "version": "3.10.5"
  },
  "orig_nbformat": 4,
  "vscode": {
   "interpreter": {
    "hash": "067e41b1dab6bc14d644439bf79fbdc6beb182caa73c4f0615230751b67184ec"
   }
  }
 },
 "nbformat": 4,
 "nbformat_minor": 2
}
